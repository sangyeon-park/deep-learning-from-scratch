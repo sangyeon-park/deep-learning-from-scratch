{
 "cells": [
  {
   "attachments": {},
   "cell_type": "markdown",
   "metadata": {},
   "source": [
    "7.4.2 im2col로 데이터 전개하기"
   ]
  },
  {
   "cell_type": "code",
   "execution_count": null,
   "metadata": {},
   "outputs": [],
   "source": [
    "# im2col은 입력 데이터를 필터링하기 좋게 전개하는 함수"
   ]
  },
  {
   "cell_type": "code",
   "execution_count": 1,
   "metadata": {},
   "outputs": [],
   "source": [
    "import numpy as np"
   ]
  },
  {
   "cell_type": "code",
   "execution_count": 2,
   "metadata": {},
   "outputs": [],
   "source": [
    "x,y = 0,0\n",
    "x_max, y_max = 2,2\n",
    "stride = 1"
   ]
  },
  {
   "cell_type": "code",
   "execution_count": 7,
   "metadata": {},
   "outputs": [],
   "source": [
    " col = np.zeros((2,3,3,3,2,2))"
   ]
  },
  {
   "cell_type": "code",
   "execution_count": 4,
   "metadata": {},
   "outputs": [],
   "source": [
    "img = np.zeros((2,3,4,4))"
   ]
  },
  {
   "cell_type": "code",
   "execution_count": 5,
   "metadata": {},
   "outputs": [
    {
     "data": {
      "text/plain": [
       "array([[[[ 0.,  1.,  2.,  3.],\n",
       "         [ 4.,  5.,  6.,  7.],\n",
       "         [ 8.,  9., 10., 11.],\n",
       "         [12., 13., 14., 15.]],\n",
       "\n",
       "        [[16., 17., 18., 19.],\n",
       "         [20., 21., 22., 23.],\n",
       "         [24., 25., 26., 27.],\n",
       "         [28., 29., 30., 31.]],\n",
       "\n",
       "        [[32., 33., 34., 35.],\n",
       "         [36., 37., 38., 39.],\n",
       "         [40., 41., 42., 43.],\n",
       "         [44., 45., 46., 47.]]],\n",
       "\n",
       "\n",
       "       [[[48., 49., 50., 51.],\n",
       "         [52., 53., 54., 55.],\n",
       "         [56., 57., 58., 59.],\n",
       "         [60., 61., 62., 63.]],\n",
       "\n",
       "        [[64., 65., 66., 67.],\n",
       "         [68., 69., 70., 71.],\n",
       "         [72., 73., 74., 75.],\n",
       "         [76., 77., 78., 79.]],\n",
       "\n",
       "        [[80., 81., 82., 83.],\n",
       "         [84., 85., 86., 87.],\n",
       "         [88., 89., 90., 91.],\n",
       "         [92., 93., 94., 95.]]]])"
      ]
     },
     "execution_count": 5,
     "metadata": {},
     "output_type": "execute_result"
    }
   ],
   "source": [
    "for i in range(2):\n",
    "    for j in range(3):\n",
    "        img[i][j] = np.array([\n",
    "            [0,1,2,3],\n",
    "            [4,5,6,7],\n",
    "            [8,9,10,11],\n",
    "            [12,13,14,15]\n",
    "        ])\n",
    "        img[i][j] += 48*i+16*j\n",
    "img"
   ]
  },
  {
   "cell_type": "code",
   "execution_count": 16,
   "metadata": {},
   "outputs": [
    {
     "name": "stdout",
     "output_type": "stream",
     "text": [
      "x,y: [[[[ 0.  1.]\n",
      "   [ 4.  5.]]\n",
      "\n",
      "  [[16. 17.]\n",
      "   [20. 21.]]\n",
      "\n",
      "  [[32. 33.]\n",
      "   [36. 37.]]]\n",
      "\n",
      "\n",
      " [[[48. 49.]\n",
      "   [52. 53.]]\n",
      "\n",
      "  [[64. 65.]\n",
      "   [68. 69.]]\n",
      "\n",
      "  [[80. 81.]\n",
      "   [84. 85.]]]]\n",
      "(2, 3, 2, 2)\n",
      "(2, 3, 2, 2)\n",
      "x,y: [[[[ 1.  2.]\n",
      "   [ 5.  6.]]\n",
      "\n",
      "  [[17. 18.]\n",
      "   [21. 22.]]\n",
      "\n",
      "  [[33. 34.]\n",
      "   [37. 38.]]]\n",
      "\n",
      "\n",
      " [[[49. 50.]\n",
      "   [53. 54.]]\n",
      "\n",
      "  [[65. 66.]\n",
      "   [69. 70.]]\n",
      "\n",
      "  [[81. 82.]\n",
      "   [85. 86.]]]]\n",
      "(2, 3, 2, 2)\n",
      "(2, 3, 2, 2)\n",
      "x,y: [[[[ 2.  3.]\n",
      "   [ 6.  7.]]\n",
      "\n",
      "  [[18. 19.]\n",
      "   [22. 23.]]\n",
      "\n",
      "  [[34. 35.]\n",
      "   [38. 39.]]]\n",
      "\n",
      "\n",
      " [[[50. 51.]\n",
      "   [54. 55.]]\n",
      "\n",
      "  [[66. 67.]\n",
      "   [70. 71.]]\n",
      "\n",
      "  [[82. 83.]\n",
      "   [86. 87.]]]]\n",
      "(2, 3, 2, 2)\n",
      "(2, 3, 2, 2)\n",
      "x,y: [[[[ 4.  5.]\n",
      "   [ 8.  9.]]\n",
      "\n",
      "  [[20. 21.]\n",
      "   [24. 25.]]\n",
      "\n",
      "  [[36. 37.]\n",
      "   [40. 41.]]]\n",
      "\n",
      "\n",
      " [[[52. 53.]\n",
      "   [56. 57.]]\n",
      "\n",
      "  [[68. 69.]\n",
      "   [72. 73.]]\n",
      "\n",
      "  [[84. 85.]\n",
      "   [88. 89.]]]]\n",
      "(2, 3, 2, 2)\n",
      "(2, 3, 2, 2)\n",
      "x,y: [[[[ 5.  6.]\n",
      "   [ 9. 10.]]\n",
      "\n",
      "  [[21. 22.]\n",
      "   [25. 26.]]\n",
      "\n",
      "  [[37. 38.]\n",
      "   [41. 42.]]]\n",
      "\n",
      "\n",
      " [[[53. 54.]\n",
      "   [57. 58.]]\n",
      "\n",
      "  [[69. 70.]\n",
      "   [73. 74.]]\n",
      "\n",
      "  [[85. 86.]\n",
      "   [89. 90.]]]]\n",
      "(2, 3, 2, 2)\n",
      "(2, 3, 2, 2)\n",
      "x,y: [[[[ 6.  7.]\n",
      "   [10. 11.]]\n",
      "\n",
      "  [[22. 23.]\n",
      "   [26. 27.]]\n",
      "\n",
      "  [[38. 39.]\n",
      "   [42. 43.]]]\n",
      "\n",
      "\n",
      " [[[54. 55.]\n",
      "   [58. 59.]]\n",
      "\n",
      "  [[70. 71.]\n",
      "   [74. 75.]]\n",
      "\n",
      "  [[86. 87.]\n",
      "   [90. 91.]]]]\n",
      "(2, 3, 2, 2)\n",
      "(2, 3, 2, 2)\n",
      "x,y: [[[[ 8.  9.]\n",
      "   [12. 13.]]\n",
      "\n",
      "  [[24. 25.]\n",
      "   [28. 29.]]\n",
      "\n",
      "  [[40. 41.]\n",
      "   [44. 45.]]]\n",
      "\n",
      "\n",
      " [[[56. 57.]\n",
      "   [60. 61.]]\n",
      "\n",
      "  [[72. 73.]\n",
      "   [76. 77.]]\n",
      "\n",
      "  [[88. 89.]\n",
      "   [92. 93.]]]]\n",
      "(2, 3, 2, 2)\n",
      "(2, 3, 2, 2)\n",
      "x,y: [[[[ 9. 10.]\n",
      "   [13. 14.]]\n",
      "\n",
      "  [[25. 26.]\n",
      "   [29. 30.]]\n",
      "\n",
      "  [[41. 42.]\n",
      "   [45. 46.]]]\n",
      "\n",
      "\n",
      " [[[57. 58.]\n",
      "   [61. 62.]]\n",
      "\n",
      "  [[73. 74.]\n",
      "   [77. 78.]]\n",
      "\n",
      "  [[89. 90.]\n",
      "   [93. 94.]]]]\n",
      "(2, 3, 2, 2)\n",
      "(2, 3, 2, 2)\n",
      "x,y: [[[[10. 11.]\n",
      "   [14. 15.]]\n",
      "\n",
      "  [[26. 27.]\n",
      "   [30. 31.]]\n",
      "\n",
      "  [[42. 43.]\n",
      "   [46. 47.]]]\n",
      "\n",
      "\n",
      " [[[58. 59.]\n",
      "   [62. 63.]]\n",
      "\n",
      "  [[74. 75.]\n",
      "   [78. 79.]]\n",
      "\n",
      "  [[90. 91.]\n",
      "   [94. 95.]]]]\n",
      "(2, 3, 2, 2)\n",
      "(2, 3, 2, 2)\n"
     ]
    }
   ],
   "source": [
    "\n",
    "for y in range(3):\n",
    "        y_max = y + stride*2\n",
    "        for x in range(3):\n",
    "            x_max = x + stride*2\n",
    "            print(\"x,y:\",img[:, :, y:y_max:stride, x:x_max:stride])\n",
    "            print(col[:,:,y,x,:,:].shape)\n",
    "            col[:, :, y, x, :, :] = img[:, :, y:y_max:stride, x:x_max:stride]\n",
    "#col"
   ]
  },
  {
   "attachments": {},
   "cell_type": "markdown",
   "metadata": {},
   "source": [
    "7.4.3 합성곱 계층 구현하기"
   ]
  },
  {
   "cell_type": "code",
   "execution_count": 17,
   "metadata": {},
   "outputs": [],
   "source": [
    "import sys, os\n",
    "sys.path.append(os.pardir)\n",
    "from common.util import im2col"
   ]
  },
  {
   "cell_type": "code",
   "execution_count": 18,
   "metadata": {},
   "outputs": [
    {
     "name": "stdout",
     "output_type": "stream",
     "text": [
      "(9, 75)\n",
      "(90, 75)\n"
     ]
    }
   ],
   "source": [
    "x1 = np.random.rand(1,3,7,7)\n",
    "col1 = im2col(x1,5,5,stride=1,pad=0)\n",
    "print(col1.shape)\n",
    "# 여기서 out_h, out_w = (7+ 2*0 - 5)/1 + 1 = 3이므로 \n",
    "# (1*out_h*out_w, channel*filter_w*filter_h) = (9, 75)\n",
    "\n",
    "x2 = np.random.rand(10,3,7,7)\n",
    "col2 = im2col(x2, 5,5,stride=1,pad=0)\n",
    "print(col2.shape)"
   ]
  },
  {
   "cell_type": "code",
   "execution_count": 20,
   "metadata": {},
   "outputs": [],
   "source": [
    "class Convolution:\n",
    "    def __init__(self, W, b, stride=1, pad=0):\n",
    "        self.W = W\n",
    "        self.b = b\n",
    "        self.stride = stride\n",
    "        self.pad = pad \n",
    "\n",
    "    def forward(self, x):\n",
    "        # # of filters, channel, filter height, filter width\n",
    "        FN, C, FH, FW = self.W.shape\n",
    "        N, C, H, W = x.shape\n",
    "        \n",
    "        out_h = int(1 + (H + 2*self.pad - FH) / self.stride)\n",
    "        out_w = int(1 + (W + 2*self.pad - FW) / self.stride)\n",
    "\n",
    "        col = im2col(x, FH, FW, self.stride, self.pad)\n",
    "        # col_W = self.W.reshape(1,-1) 과 같지 않을까? \n",
    "        col_W = self.W.reshape(FN, -1).T\n",
    "        out = np.dot(col, col_W) + self.b\n",
    "\n",
    "        out = out.reshape(N, out_h, out_w, -1).transpose(0,3,1,2)\n",
    "\n",
    "        return out \n"
   ]
  },
  {
   "attachments": {},
   "cell_type": "markdown",
   "metadata": {},
   "source": [
    "7.4.4 풀링 계층 구현하기"
   ]
  },
  {
   "cell_type": "code",
   "execution_count": null,
   "metadata": {},
   "outputs": [],
   "source": [
    "# 채널마다 im2col를 독립적으로 전개 후, 행별 max값을 구하고 다시 형상을 바꿔줌\n",
    "\n",
    "class Pooling:\n",
    "    def __init__(self, pool_h, pool_w, stride=1, pad=0):\n",
    "        self.pool_h = pool_h\n",
    "        self.pool_w = pool_w\n",
    "        self.stride = stride\n",
    "        self.pad = pad\n",
    "\n",
    "    def forward(self, x):\n",
    "        N,C,H,W = x.shape\n",
    "        out_h = int(1 + (H - self.pool_h) / self.stride)\n",
    "        out_w = int(1 + (W - self.pool_w) / self.stride)\n",
    "\n",
    "        # im2col 함수로 2차원 배열로 만들어줌 \n",
    "        col = im2col(x, self.pool_h, self.pool_w, self.stride, self.pad)\n",
    "        # 이 때의 col.shape = (N*OH*OW, C*PH*PW)\n",
    "        col = col.reshape(-1, self.pool_h*self.pool_w)\n",
    "        # 이 때의 col.shape = (N*OH*OW*C, PH*PW)\n",
    "\n",
    "        out = np.max(col, axis=1)\n",
    "        # col.shape = (N*OH*OW*C, PH*PW) 이므로\n",
    "        # 이에 맞게 reshape() 해준 뒤 (N,C,OH,OW) 형태로 transpose 해줌 \n",
    "        out = out.reshape(N, out_h, out_w, C).transpose(0,3,1,2)\n",
    "\n",
    "        return out "
   ]
  },
  {
   "attachments": {},
   "cell_type": "markdown",
   "metadata": {},
   "source": [
    "7.5 CNN 구현하기"
   ]
  },
  {
   "cell_type": "code",
   "execution_count": null,
   "metadata": {},
   "outputs": [],
   "source": [
    "# simple_convnet.py\n",
    "# train_convnet.py 참고 "
   ]
  },
  {
   "attachments": {},
   "cell_type": "markdown",
   "metadata": {},
   "source": [
    "7.6.1 1번째 층의 가중치 시각화하기 "
   ]
  },
  {
   "cell_type": "code",
   "execution_count": null,
   "metadata": {},
   "outputs": [],
   "source": [
    "# visualize_filter.py 참고 "
   ]
  },
  {
   "cell_type": "markdown",
   "metadata": {},
   "source": []
  },
  {
   "cell_type": "markdown",
   "metadata": {},
   "source": []
  }
 ],
 "metadata": {
  "kernelspec": {
   "display_name": "base",
   "language": "python",
   "name": "python3"
  },
  "language_info": {
   "codemirror_mode": {
    "name": "ipython",
    "version": 3
   },
   "file_extension": ".py",
   "mimetype": "text/x-python",
   "name": "python",
   "nbconvert_exporter": "python",
   "pygments_lexer": "ipython3",
   "version": "3.8.16"
  },
  "orig_nbformat": 4,
  "vscode": {
   "interpreter": {
    "hash": "65c09b56df5af2f753512909d27ed79e226b28cdc590fad8e7792ec0cea5ccde"
   }
  }
 },
 "nbformat": 4,
 "nbformat_minor": 2
}
