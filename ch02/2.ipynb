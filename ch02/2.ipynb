{
 "cells": [
  {
   "attachments": {},
   "cell_type": "markdown",
   "id": "28849c32",
   "metadata": {},
   "source": [
    "2.3.1 간단한 구현"
   ]
  },
  {
   "cell_type": "code",
   "execution_count": 27,
   "id": "3249d3b7",
   "metadata": {},
   "outputs": [],
   "source": [
    "def AND(x1, x2):\n",
    "    # w_i는 가중치, theta는 임계값\n",
    "    w1, w2, theta = 0.5, 0.5, 0.7\n",
    "    # tmp는 가중치와 입력신호 곱들의 합\n",
    "    tmp = x1*w1 + x2*w2\n",
    "    # 임계값을 넘지 못하면 0, 넘으면 1을 출력 \n",
    "    if tmp <= theta: return 0\n",
    "    else: return 1"
   ]
  },
  {
   "cell_type": "code",
   "execution_count": 28,
   "id": "da4c56e4",
   "metadata": {},
   "outputs": [],
   "source": [
    "x_list = [(1,1), (1,0), (0,1), (0,0)]"
   ]
  },
  {
   "cell_type": "code",
   "execution_count": 29,
   "id": "7a60aa89",
   "metadata": {},
   "outputs": [
    {
     "name": "stdout",
     "output_type": "stream",
     "text": [
      "AND(1,1) = 1\n",
      "AND(1,0) = 0\n",
      "AND(0,1) = 0\n",
      "AND(0,0) = 0\n"
     ]
    }
   ],
   "source": [
    "for x_s in x_list:\n",
    "    x1, x2 = x_s\n",
    "    print(\"AND({},{}) =\".format(x1,x2),AND(x1,x2))\n"
   ]
  },
  {
   "cell_type": "code",
   "execution_count": 30,
   "id": "1f730051",
   "metadata": {},
   "outputs": [],
   "source": [
    "import numpy as np"
   ]
  },
  {
   "cell_type": "code",
   "execution_count": 31,
   "id": "a8da1571",
   "metadata": {},
   "outputs": [],
   "source": [
    "# bias로 수정된 AND gate 함수\n",
    "def AND(x1, x2):\n",
    "    x = np.array([x1, x2])\n",
    "    w = np.array([0.5, 0.5])\n",
    "    b = -0.7\n",
    "    # tmp = w1*x1 + w2*x2 + b\n",
    "    tmp = np.sum(w*x) + b\n",
    "    if tmp <= 0: return 0\n",
    "    else: return 1"
   ]
  },
  {
   "cell_type": "code",
   "execution_count": 32,
   "id": "47ba5145",
   "metadata": {},
   "outputs": [],
   "source": [
    "def NAND(x1, x2):\n",
    "    x = np.array([x1, x2])\n",
    "    # AND gate와 매개변수들의 부호를 반대로 잡자 \n",
    "    w = np.array([-0.5, -0.5])\n",
    "    b = 0.7\n",
    "    # tmp = w1*x1 + w2*x2 + b\n",
    "    tmp = np.sum(w*x) + b\n",
    "    if tmp <= 0: return 0\n",
    "    else: return 1\n",
    "    \n",
    "def OR(x1, x2):\n",
    "    x = np.array([x1, x2])\n",
    "    w = np.array([0.5, 0.5])\n",
    "    b = -0.2 \n",
    "    # tmp = w1*x1 + w2*x2 + b\n",
    "    tmp = np.sum(w*x) + b\n",
    "    if tmp <= 0: return 0\n",
    "    else: return 1"
   ]
  },
  {
   "cell_type": "code",
   "execution_count": 33,
   "id": "11167b77",
   "metadata": {},
   "outputs": [
    {
     "name": "stdout",
     "output_type": "stream",
     "text": [
      "NAND(1,1) = 0\n",
      "NAND(1,0) = 1\n",
      "NAND(0,1) = 1\n",
      "NAND(0,0) = 1\n",
      "\n",
      "OR(1,1) = 1\n",
      "OR(1,0) = 1\n",
      "OR(0,1) = 1\n",
      "OR(0,0) = 0\n"
     ]
    }
   ],
   "source": [
    "# NAND 테스트\n",
    "for x_s in x_list:\n",
    "    x1, x2 = x_s\n",
    "    print(\"NAND({},{}) =\".format(x1,x2), NAND(x1,x2))\n",
    "print()\n",
    "\n",
    "# OR 테스트\n",
    "for x_s in x_list:\n",
    "    x1, x2 = x_s\n",
    "    print(\"OR({},{}) =\".format(x1,x2), OR(x1,x2))\n"
   ]
  },
  {
   "attachments": {},
   "cell_type": "markdown",
   "id": "31343185",
   "metadata": {},
   "source": [
    "2.5.2 XOR 게이트 구현"
   ]
  },
  {
   "cell_type": "code",
   "execution_count": 34,
   "id": "ab65acc2",
   "metadata": {},
   "outputs": [],
   "source": [
    "def XOR(x1, x2):\n",
    "    s1 = NAND(x1, x2)\n",
    "    s2 = OR(x1, x2)\n",
    "    y = AND(s1, s2)\n",
    "    return y"
   ]
  },
  {
   "cell_type": "code",
   "execution_count": 35,
   "id": "d9415cb4",
   "metadata": {},
   "outputs": [
    {
     "name": "stdout",
     "output_type": "stream",
     "text": [
      "XOR(1,1) = 0\n",
      "XOR(1,0) = 1\n",
      "XOR(0,1) = 1\n",
      "XOR(0,0) = 0\n"
     ]
    }
   ],
   "source": [
    "for x_s in x_list:\n",
    "    x1, x2 = x_s\n",
    "    print(\"XOR({},{}) =\".format(x1,x2), XOR(x1,x2))\n"
   ]
  },
  {
   "attachments": {},
   "cell_type": "markdown",
   "id": "f5ef676a",
   "metadata": {},
   "source": [
    "2.6 NAND로 다른 gate 구현"
   ]
  },
  {
   "cell_type": "code",
   "execution_count": 36,
   "id": "681d3a5e",
   "metadata": {},
   "outputs": [],
   "source": [
    "# 2.6 NAND로 다른 gate 구현\n",
    "def NOT_with_NAND(x1):\n",
    "    return NAND(x1,x1)\n",
    "\n",
    "def AND_with_NAND(x1,x2):\n",
    "    Na = NAND(x1,x2)\n",
    "    return NAND(Na, Na)\n",
    "\n",
    "def OR_with_NAND(x1,x2):\n",
    "    Na1 = NAND(x1,x1)\n",
    "    Na2 = NAND(x2,x2)\n",
    "    return NAND(Na1, Na2)\n",
    "\n",
    "# XOR(x1,x2) = (x1 v x2) ^ ~(x1 ^ x2)에서 전개\n",
    "def XOR_with_NAND_v1(x1,x2):\n",
    "    Na = NAND(x1,x2)\n",
    "    Na1 = NAND(x1,x1)\n",
    "    Na2 = NAND(x2,x2)\n",
    "    Na12 = NAND(Na1, Na2)\n",
    "    return NAND(NAND(Na12,Na), NAND(Na12,Na))"
   ]
  },
  {
   "cell_type": "code",
   "execution_count": 37,
   "id": "41f977b0",
   "metadata": {},
   "outputs": [
    {
     "name": "stdout",
     "output_type": "stream",
     "text": [
      "NOT(1) = 0\n",
      "NOT(0) = 1\n",
      "\n",
      "AND(1,1) = 1\n",
      "AND(1,0) = 0\n",
      "AND(0,1) = 0\n",
      "AND(0,0) = 0\n",
      "\n",
      "OR(1,1) = 1\n",
      "OR(1,0) = 1\n",
      "OR(0,1) = 1\n",
      "OR(0,0) = 0\n",
      "\n",
      "XOR(1,1) = 0\n",
      "XOR(1,0) = 1\n",
      "XOR(0,1) = 1\n",
      "XOR(0,0) = 0\n",
      "\n"
     ]
    }
   ],
   "source": [
    "for x_s in [1,0]:\n",
    "    x1 = x_s\n",
    "    print(\"NOT({}) =\".format(x1), NOT_with_NAND(x1))\n",
    "print()\n",
    "\n",
    "for x_s in x_list:\n",
    "    x1, x2 = x_s\n",
    "    print(\"AND({},{}) =\".format(x1,x2), AND_with_NAND(x1,x2))\n",
    "print()\n",
    "\n",
    "for x_s in x_list:\n",
    "    x1, x2 = x_s\n",
    "    print(\"OR({},{}) =\".format(x1,x2), OR_with_NAND(x1,x2))\n",
    "print()\n",
    "\n",
    "for x_s in x_list:\n",
    "    x1, x2 = x_s\n",
    "    print(\"XOR({},{}) =\".format(x1,x2), XOR_with_NAND_v1(x1,x2))\n",
    "print()\n",
    "\n"
   ]
  },
  {
   "cell_type": "code",
   "execution_count": 38,
   "id": "8efb6ed3",
   "metadata": {},
   "outputs": [],
   "source": [
    "# NAND를 사용하면서 간단하게 바꾸기\n",
    "def XOR_with_NAND_v2(x1,x2):\n",
    "    Na = NAND(x1,x2)\n",
    "    return NAND(NAND(x1, Na), NAND(x2, Na))"
   ]
  },
  {
   "cell_type": "code",
   "execution_count": 39,
   "id": "43779565",
   "metadata": {},
   "outputs": [
    {
     "name": "stdout",
     "output_type": "stream",
     "text": [
      "XOR(1,1) = 0\n",
      "XOR(1,0) = 1\n",
      "XOR(0,1) = 1\n",
      "XOR(0,0) = 0\n",
      "\n"
     ]
    }
   ],
   "source": [
    "for x_s in x_list:\n",
    "    x1, x2 = x_s\n",
    "    print(\"XOR({},{}) =\".format(x1,x2), XOR_with_NAND_v2(x1,x2))\n",
    "print()"
   ]
  }
 ],
 "metadata": {
  "kernelspec": {
   "display_name": "Python 3 (ipykernel)",
   "language": "python",
   "name": "python3"
  },
  "language_info": {
   "codemirror_mode": {
    "name": "ipython",
    "version": 3
   },
   "file_extension": ".py",
   "mimetype": "text/x-python",
   "name": "python",
   "nbconvert_exporter": "python",
   "pygments_lexer": "ipython3",
   "version": "3.8.5"
  }
 },
 "nbformat": 4,
 "nbformat_minor": 5
}
