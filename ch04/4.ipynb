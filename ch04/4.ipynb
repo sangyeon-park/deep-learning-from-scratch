{
 "cells": [
  {
   "attachments": {},
   "cell_type": "markdown",
   "metadata": {},
   "source": [
    "4.2.1 오차 제곱합"
   ]
  },
  {
   "cell_type": "code",
   "execution_count": 1,
   "metadata": {},
   "outputs": [],
   "source": [
    "%matplotlib inline"
   ]
  },
  {
   "cell_type": "code",
   "execution_count": 2,
   "metadata": {},
   "outputs": [],
   "source": [
    "import numpy as np"
   ]
  },
  {
   "cell_type": "code",
   "execution_count": 3,
   "metadata": {},
   "outputs": [],
   "source": [
    "def sum_squares_error(y,t):\n",
    "    return 0.5 * np.sum((y-t)**2)"
   ]
  },
  {
   "cell_type": "code",
   "execution_count": 4,
   "metadata": {},
   "outputs": [
    {
     "name": "stdout",
     "output_type": "stream",
     "text": [
      "2가 가장 높은 확률일 때 error: 0.09750000000000003\n",
      "7이 가장 높은 확률일 때 error: 0.6975\n"
     ]
    }
   ],
   "source": [
    "# 답은 2 \n",
    "t = [0,0,1,0,0,0,0,0,0,0]\n",
    "\n",
    "y = [0.1, 0.05, 0.6, 0, 0.05, 0.1, 0, 0.1, 0,0]\n",
    "print(\"2가 가장 높은 확률일 때 error:\", sum_squares_error(np.array(y),np.array(t)))\n",
    "\n",
    "\n",
    "y = [0.1, 0.05, 0, 0, 0.05, 0.1, 0.6, 0.1, 0,0]\n",
    "print(\"7이 가장 높은 확률일 때 error:\", sum_squares_error(np.array(y),np.array(t)))\n",
    "\n",
    "# 잘 맞았을 때 에러가 더 작은 것을 알 수 있음"
   ]
  },
  {
   "attachments": {},
   "cell_type": "markdown",
   "metadata": {},
   "source": [
    "4.2.2 교차 엔트로피 오차"
   ]
  },
  {
   "cell_type": "code",
   "execution_count": 5,
   "metadata": {},
   "outputs": [],
   "source": [
    "def cross_entropy_error(y, t):\n",
    "    delta = 1e-7  # log 0 = -inf 이므로 방지하기 위해 \n",
    "    return -np.sum(t * np.log(y + delta))"
   ]
  },
  {
   "cell_type": "code",
   "execution_count": 6,
   "metadata": {},
   "outputs": [
    {
     "name": "stdout",
     "output_type": "stream",
     "text": [
      "2가 가장 높은 확률일 때 error: 0.510825457099338\n",
      "7이 가장 높은 확률일 때 error: 16.11809565095832\n"
     ]
    }
   ],
   "source": [
    "# 답은 2 \n",
    "t = [0,0,1,0,0,0,0,0,0,0]\n",
    "\n",
    "y = [0.1, 0.05, 0.6, 0, 0.05, 0.1, 0, 0.1, 0,0]\n",
    "print(\"2가 가장 높은 확률일 때 error:\", cross_entropy_error(np.array(y),np.array(t)))\n",
    "\n",
    "\n",
    "y = [0.1, 0.05, 0, 0, 0.05, 0.1, 0.6, 0.1, 0,0]\n",
    "print(\"7이 가장 높은 확률일 때 error:\", cross_entropy_error(np.array(y),np.array(t)))\n",
    "\n",
    "# 잘 맞았을 때 에러가 더 작은 것을 알 수 있음"
   ]
  },
  {
   "attachments": {},
   "cell_type": "markdown",
   "metadata": {},
   "source": [
    "4.2.3 미니배치 학습"
   ]
  },
  {
   "cell_type": "code",
   "execution_count": 7,
   "metadata": {},
   "outputs": [],
   "source": [
    "import sys, os\n",
    "sys.path.append(os.pardir)\n",
    "from dataset.mnist import load_mnist\n",
    "\n",
    "# x_train: (60000, 784)\n",
    "# t_train: (10000, 10)\n",
    "(x_train, t_train), (x_test, t_test) =\\\n",
    "    load_mnist(normalize=True, one_hot_label=True)\n"
   ]
  },
  {
   "cell_type": "code",
   "execution_count": 8,
   "metadata": {},
   "outputs": [
    {
     "name": "stdout",
     "output_type": "stream",
     "text": [
      "[19417 59461 35178 44379  5066 58525  3419 30710 10797 50286]\n"
     ]
    }
   ],
   "source": [
    "train_size = x_train.shape[0]  # 60000\n",
    "batch_size = 10  # 뽑을 수 \n",
    "\n",
    "# 0~59999에서 10개를 뽑기\n",
    "batch_mask = np.random.choice(train_size, batch_size)\n",
    "print(batch_mask)\n",
    "\n",
    "# 뽑은 10개를 인덱스로 사용 \n",
    "x_batch = x_train[batch_mask]\n",
    "t_batch = t_train[batch_mask]"
   ]
  },
  {
   "attachments": {},
   "cell_type": "markdown",
   "metadata": {},
   "source": [
    "4.2.4 (배치용) 교차 엔트로피 오차 구현하기"
   ]
  },
  {
   "cell_type": "code",
   "execution_count": 9,
   "metadata": {},
   "outputs": [],
   "source": [
    "def cross_entropy_error(y,t):\n",
    "    print(\"before t:\",t)\n",
    "    # 만약 데이터가 하나라면? 차원이 1이됨 \n",
    "    # t,y를 (n,) 에서 (1,n)으로 모양을 바꿔줌 \n",
    "    if y.ndim == 1:\n",
    "        t = t.reshape(1, t.size)\n",
    "        y = y.reshape(1, y.size)\n",
    "    print(\"after t:\", t)\n",
    "\n",
    "    batch_size = y.shape[0]\n",
    "    return -np.sum(t * np.log(y + 1e-7)) / batch_size"
   ]
  },
  {
   "cell_type": "code",
   "execution_count": 10,
   "metadata": {},
   "outputs": [
    {
     "name": "stdout",
     "output_type": "stream",
     "text": [
      "before t: [0 0 1 0 0 0 0 0 0 0]\n",
      "after t: [[0 0 1 0 0 0 0 0 0 0]]\n",
      "2가 가장 높은 확률일 때 error: 0.510825457099338\n",
      "before t: [0 0 1 0 0 0 0 0 0 0]\n",
      "after t: [[0 0 1 0 0 0 0 0 0 0]]\n",
      "7이 가장 높은 확률일 때 error: 16.11809565095832\n"
     ]
    }
   ],
   "source": [
    "# 답은 2 \n",
    "t = [0,0,1,0,0,0,0,0,0,0]\n",
    "\n",
    "y = [0.1, 0.05, 0.6, 0, 0.05, 0.1, 0, 0.1, 0,0]\n",
    "print(\"2가 가장 높은 확률일 때 error:\", cross_entropy_error(np.array(y),np.array(t)))\n",
    "\n",
    "\n",
    "y = [0.1, 0.05, 0, 0, 0.05, 0.1, 0.6, 0.1, 0,0]\n",
    "print(\"7이 가장 높은 확률일 때 error:\", cross_entropy_error(np.array(y),np.array(t)))\n",
    "\n",
    "# 잘 맞았을 때 에러가 더 작은 것을 알 수 있음"
   ]
  },
  {
   "cell_type": "code",
   "execution_count": 11,
   "metadata": {},
   "outputs": [
    {
     "name": "stdout",
     "output_type": "stream",
     "text": [
      "before t: [[0 0 1 0 0 0 0 0 0 0]\n",
      " [0 0 0 0 0 1 0 0 0 0]]\n",
      "after t: [[0 0 1 0 0 0 0 0 0 0]\n",
      " [0 0 0 0 0 1 0 0 0 0]]\n",
      "1.406704775046942\n"
     ]
    }
   ],
   "source": [
    "# 데이터들이 배치일때(하나에 여러개의 데이터 존재) \n",
    "t = [[0,0,1,0,0,0,0,0,0,0], [0,0,0,0,0,1,0,0,0,0]]\n",
    "\n",
    "y = [[0.1, 0.05, 0.6, 0, 0.05, 0.1, 0, 0.1, 0,0],\\\n",
    "    [0.1, 0.05, 0, 0, 0.05, 0.1, 0.6, 0.1, 0,0]]\n",
    "\n",
    "print(cross_entropy_error(np.array(y), np.array(t)))"
   ]
  },
  {
   "cell_type": "code",
   "execution_count": 12,
   "metadata": {},
   "outputs": [],
   "source": [
    "# 정답이 one-hot encoding이 아닐 때\n",
    "def cross_entropy_error(y, t):\n",
    "    if y.ndim == 1:\n",
    "        t = t.reshape(1, t.size)\n",
    "        y = y.reshape(1, y.size)\n",
    "    \n",
    "    batch_size = y.shape[0]\n",
    "    # y[0,t[0]], y[1,t[1]], ..., y[batch_size-1, t[batch_size-1]]\n",
    "    return -np.sum(np.log(y[np.arange(batch_size),t] + 1e-7)) / batch_size "
   ]
  },
  {
   "cell_type": "code",
   "execution_count": 13,
   "metadata": {},
   "outputs": [
    {
     "name": "stdout",
     "output_type": "stream",
     "text": [
      "1.406704775046942\n"
     ]
    }
   ],
   "source": [
    "# 데이터들이 배치일때(하나에 여러개의 데이터 존재) \n",
    "t = [2,5]\n",
    "\n",
    "y = [[0.1, 0.05, 0.6, 0, 0.05, 0.1, 0, 0.1, 0,0],\\\n",
    "    [0.1, 0.05, 0, 0, 0.05, 0.1, 0.6, 0.1, 0,0]]\n",
    "\n",
    "print(cross_entropy_error(np.array(y), np.array(t)))"
   ]
  },
  {
   "attachments": {},
   "cell_type": "markdown",
   "metadata": {},
   "source": [
    "4.3.1 미분"
   ]
  },
  {
   "cell_type": "code",
   "execution_count": 14,
   "metadata": {},
   "outputs": [],
   "source": [
    "# 나쁜 구현\n",
    "def numerical_diff(f,x):\n",
    "    h = 1e-50  # 너무 작아서 rounding error 일으킴 \n",
    "    print(\"분자:\", f(x+h) - f(x))\n",
    "    print(\"분모:\", h)\n",
    "    return (f(x+h) - f(x)) / h"
   ]
  },
  {
   "cell_type": "code",
   "execution_count": 15,
   "metadata": {},
   "outputs": [
    {
     "name": "stdout",
     "output_type": "stream",
     "text": [
      "분자: 0.0\n",
      "분모: 1e-50\n"
     ]
    },
    {
     "data": {
      "text/plain": [
       "0.0"
      ]
     },
     "execution_count": 15,
     "metadata": {},
     "output_type": "execute_result"
    }
   ],
   "source": [
    "def f(x):\n",
    "    return x**2\n",
    "\n",
    "numerical_diff(f,2)\n",
    "\n",
    "# 너무 작아서 원하는 결과가 나오지 않음 "
   ]
  },
  {
   "cell_type": "code",
   "execution_count": 16,
   "metadata": {},
   "outputs": [],
   "source": [
    "# 중심 차분과 h 값 조절 이용\n",
    "def numerical_diff(f,x):\n",
    "    h = 1e-4\n",
    "    return (f(x+h) - f(x-h)) / (2*h)"
   ]
  },
  {
   "cell_type": "code",
   "execution_count": 17,
   "metadata": {},
   "outputs": [
    {
     "data": {
      "text/plain": [
       "4.000000000004"
      ]
     },
     "execution_count": 17,
     "metadata": {},
     "output_type": "execute_result"
    }
   ],
   "source": [
    "numerical_diff(f,2)\n",
    "# 근사치를 얻을 수 있음 "
   ]
  },
  {
   "attachments": {},
   "cell_type": "markdown",
   "metadata": {},
   "source": [
    "4.3.2 수치 미분의 예"
   ]
  },
  {
   "cell_type": "code",
   "execution_count": 18,
   "metadata": {},
   "outputs": [],
   "source": [
    "# y = 0.01x^2 + 0.1x\n",
    "def function_1(x):\n",
    "    return 0.01*x**2 + 0.1*x"
   ]
  },
  {
   "cell_type": "code",
   "execution_count": 19,
   "metadata": {},
   "outputs": [],
   "source": [
    "import matplotlib.pylab as plt"
   ]
  },
  {
   "cell_type": "code",
   "execution_count": 20,
   "metadata": {},
   "outputs": [
    {
     "data": {
      "image/png": "[encoded data removed]",
      "text/plain": [
       "<Figure size 640x480 with 1 Axes>"
      ]
     },
     "metadata": {},
     "output_type": "display_data"
    }
   ],
   "source": [
    "x = np.arange(0,20,0.1)\n",
    "y = function_1(x)\n",
    "plt.xlabel(\"x\")\n",
    "plt.ylabel(\"f(x)\")\n",
    "plt.plot(x,y)\n",
    "plt.show()"
   ]
  },
  {
   "cell_type": "code",
   "execution_count": 21,
   "metadata": {},
   "outputs": [
    {
     "name": "stdout",
     "output_type": "stream",
     "text": [
      "f'(5): 0.1999999999990898\n",
      "f'(10): 0.2999999999986347\n"
     ]
    }
   ],
   "source": [
    "# x=5, x=10에서의 미분 값\n",
    "\n",
    "print(\"f'(5):\", numerical_diff(function_1, 5))\n",
    "print(\"f'(10):\", numerical_diff(function_1,10))\n",
    "\n",
    "# 실제로 f'(x) = 0.02x + 0.1 이므로\n",
    "# f'(5) = 0.2, f'(10) = 0.3"
   ]
  },
  {
   "cell_type": "code",
   "execution_count": 22,
   "metadata": {},
   "outputs": [
    {
     "data": {
      "image/png": "[encoded data removed]",
      "text/plain": [
       "<Figure size 640x480 with 1 Axes>"
      ]
     },
     "metadata": {},
     "output_type": "display_data"
    }
   ],
   "source": [
    "x = np.arange(0,20,0.1)\n",
    "y = function_1(x)\n",
    "plt.xlabel(\"x\")\n",
    "plt.ylabel(\"f(x)\")\n",
    "plt.plot(x,y)\n",
    "# (5, f(5)) 에서의 접선의 방정식 \n",
    "# y = f'(5) (x-5) + f(5)\n",
    "y_prime = numerical_diff(function_1, 5)*(x-5) + function_1(5)\n",
    "plt.plot(x,y_prime,linewidth=1.0)\n",
    "plt.show()"
   ]
  },
  {
   "cell_type": "code",
   "execution_count": 23,
   "metadata": {},
   "outputs": [
    {
     "data": {
      "image/png": "[encoded data removed]",
      "text/plain": [
       "<Figure size 640x480 with 1 Axes>"
      ]
     },
     "metadata": {},
     "output_type": "display_data"
    }
   ],
   "source": [
    "x = np.arange(0,20,0.1)\n",
    "y = function_1(x)\n",
    "plt.xlabel(\"x\")\n",
    "plt.ylabel(\"f(x)\")\n",
    "plt.plot(x,y)\n",
    "# (10, f(10)) 에서의 접선의 방정식 \n",
    "# y = f'(10) (x-10) + f(10)\n",
    "y_prime = numerical_diff(function_1, 10)*(x-10) + function_1(10)\n",
    "plt.plot(x,y_prime,linewidth=1.0)\n",
    "plt.show(block=True)"
   ]
  },
  {
   "attachments": {},
   "cell_type": "markdown",
   "metadata": {},
   "source": [
    "4.3.3 편미분"
   ]
  },
  {
   "cell_type": "code",
   "execution_count": 29,
   "metadata": {},
   "outputs": [],
   "source": [
    "# f(x_0, x_1) = (x_0)^2 + (x_1)^2 \n",
    "def function_2(x):\n",
    "    return x[0]**2 + x[1]**2\n",
    "    # or return np.sum(x**2)"
   ]
  },
  {
   "attachments": {},
   "cell_type": "markdown",
   "metadata": {},
   "source": [
    "4.4 기울기"
   ]
  },
  {
   "cell_type": "code",
   "execution_count": 40,
   "metadata": {},
   "outputs": [],
   "source": [
    "def numerical_gradient(f, x):\n",
    "    h = 1e-4\n",
    "    grad = np.zeros_like(x)\n",
    "\n",
    "    for idx in range(x.size):\n",
    "        # x를 되돌리기 위해 저장해놓음 \n",
    "        tmp_val = x[idx]\n",
    "\n",
    "        # idx번째 변수에 대한 미분값 구하기 \n",
    "        x[idx] = tmp_val + h\n",
    "        # print(\"h:\",h)\n",
    "        fxh1 = f(x)\n",
    "        # print(\"x1:\",x[idx])\n",
    "        x[idx] = tmp_val - h\n",
    "        fxh2 = f(x)\n",
    "        # print(\"x2:\",x[idx])\n",
    "        grad[idx] = (fxh1 - fxh2) / (2*h)\n",
    "        # print(fxh1, fxh2, grad[idx])\n",
    "        x[idx] = tmp_val\n",
    "\n",
    "    return grad \n"
   ]
  },
  {
   "cell_type": "code",
   "execution_count": 41,
   "metadata": {},
   "outputs": [
    {
     "name": "stdout",
     "output_type": "stream",
     "text": [
      "(3,4) 에서의 gradient: [25000 35000]\n",
      "(0,2) 에서의 gradient: [    0 15000]\n",
      "(3,0) 에서의 gradient: [25000     0]\n"
     ]
    }
   ],
   "source": [
    "# 대참사\n",
    "for x in [[3,4],[0,2], [3,0]]:\n",
    "    print(\"({},{}) 에서의 gradient:\".format(x[0],x[1]), \\\n",
    "        numerical_gradient(function_2, np.array(x)))"
   ]
  },
  {
   "cell_type": "code",
   "execution_count": 42,
   "metadata": {},
   "outputs": [
    {
     "name": "stdout",
     "output_type": "stream",
     "text": [
      "(3.0,4.0) 에서의 gradient: [6. 8.]\n",
      "(0.0,2.0) 에서의 gradient: [0. 4.]\n",
      "(3.0,0.0) 에서의 gradient: [6. 0.]\n"
     ]
    }
   ],
   "source": [
    "for x in [[3.0,4.0],[0.0,2.0], [3.0,0.0]]:\n",
    "    print(\"({},{}) 에서의 gradient:\".format(x[0],x[1]), \\\n",
    "        numerical_gradient(function_2, np.array(x)))"
   ]
  },
  {
   "cell_type": "code",
   "execution_count": 45,
   "metadata": {},
   "outputs": [
    {
     "name": "stdout",
     "output_type": "stream",
     "text": [
      "int: int32\n",
      "float: float64\n"
     ]
    }
   ],
   "source": [
    "# why?\n",
    "print(\"int:\",np.array([3,4]).dtype)\n",
    "print(\"float:\",np.array([3.0,4.0]).dtype)"
   ]
  },
  {
   "attachments": {},
   "cell_type": "markdown",
   "metadata": {},
   "source": [
    "4.4.1 경사법(경사하강법)"
   ]
  },
  {
   "cell_type": "code",
   "execution_count": 48,
   "metadata": {},
   "outputs": [],
   "source": [
    "# lr: learning rate\n",
    "# step_num: 반복 횟수 \n",
    "# init_x: 초기값\n",
    "def gradient_descent(f, init_x, lr=0.01, step_num=100):\n",
    "\n",
    "    x = init_x\n",
    "\n",
    "    for i in range(step_num):\n",
    "        print(\"{}번째 x:\".format(i), x)\n",
    "        grad = numerical_gradient(f,x)\n",
    "        x -= lr * grad\n",
    "\n",
    "    return x "
   ]
  },
  {
   "cell_type": "code",
   "execution_count": 50,
   "metadata": {},
   "outputs": [
    {
     "name": "stdout",
     "output_type": "stream",
     "text": [
      "0번째 x: [-3.  4.]\n",
      "1번째 x: [-2.4  3.2]\n",
      "2번째 x: [-1.92  2.56]\n",
      "3번째 x: [-1.536  2.048]\n",
      "4번째 x: [-1.2288  1.6384]\n",
      "5번째 x: [-0.98304  1.31072]\n",
      "6번째 x: [-0.786432  1.048576]\n",
      "7번째 x: [-0.6291456  0.8388608]\n",
      "8번째 x: [-0.50331648  0.67108864]\n",
      "9번째 x: [-0.40265318  0.53687091]\n",
      "10번째 x: [-0.32212255  0.42949673]\n",
      "11번째 x: [-0.25769804  0.34359738]\n",
      "12번째 x: [-0.20615843  0.27487791]\n",
      "13번째 x: [-0.16492674  0.21990233]\n",
      "14번째 x: [-0.1319414   0.17592186]\n",
      "15번째 x: [-0.10555312  0.14073749]\n",
      "16번째 x: [-0.08444249  0.11258999]\n",
      "17번째 x: [-0.06755399  0.09007199]\n",
      "18번째 x: [-0.0540432   0.07205759]\n",
      "19번째 x: [-0.04323456  0.05764608]\n",
      "20번째 x: [-0.03458765  0.04611686]\n",
      "21번째 x: [-0.02767012  0.03689349]\n",
      "22번째 x: [-0.02213609  0.02951479]\n",
      "23번째 x: [-0.01770887  0.02361183]\n",
      "24번째 x: [-0.0141671   0.01888947]\n",
      "25번째 x: [-0.01133368  0.01511157]\n",
      "26번째 x: [-0.00906694  0.01208926]\n",
      "27번째 x: [-0.00725355  0.00967141]\n",
      "28번째 x: [-0.00580284  0.00773713]\n",
      "29번째 x: [-0.00464228  0.0061897 ]\n",
      "30번째 x: [-0.00371382  0.00495176]\n",
      "31번째 x: [-0.00297106  0.00396141]\n",
      "32번째 x: [-0.00237684  0.00316913]\n",
      "33번째 x: [-0.00190148  0.0025353 ]\n",
      "34번째 x: [-0.00152118  0.00202824]\n",
      "35번째 x: [-0.00121694  0.00162259]\n",
      "36번째 x: [-0.00097356  0.00129807]\n",
      "37번째 x: [-0.00077884  0.00103846]\n",
      "38번째 x: [-0.00062308  0.00083077]\n",
      "39번째 x: [-0.00049846  0.00066461]\n",
      "40번째 x: [-0.00039877  0.00053169]\n",
      "41번째 x: [-0.00031901  0.00042535]\n",
      "42번째 x: [-0.00025521  0.00034028]\n",
      "43번째 x: [-0.00020417  0.00027223]\n",
      "44번째 x: [-0.00016334  0.00021778]\n",
      "45번째 x: [-0.00013067  0.00017422]\n",
      "46번째 x: [-0.00010453  0.00013938]\n",
      "47번째 x: [-8.36277945e-05  1.11503726e-04]\n",
      "48번째 x: [-6.69022356e-05  8.92029808e-05]\n",
      "49번째 x: [-5.35217885e-05  7.13623846e-05]\n",
      "50번째 x: [-4.28174308e-05  5.70899077e-05]\n",
      "51번째 x: [-3.42539446e-05  4.56719262e-05]\n",
      "52번째 x: [-2.74031557e-05  3.65375409e-05]\n",
      "53번째 x: [-2.19225246e-05  2.92300327e-05]\n",
      "54번째 x: [-1.75380196e-05  2.33840262e-05]\n",
      "55번째 x: [-1.40304157e-05  1.87072210e-05]\n",
      "56번째 x: [-1.12243326e-05  1.49657768e-05]\n",
      "57번째 x: [-8.97946606e-06  1.19726214e-05]\n",
      "58번째 x: [-7.18357285e-06  9.57809713e-06]\n",
      "59번째 x: [-5.74685828e-06  7.66247770e-06]\n",
      "60번째 x: [-4.59748662e-06  6.12998216e-06]\n",
      "61번째 x: [-3.67798930e-06  4.90398573e-06]\n",
      "62번째 x: [-2.94239144e-06  3.92318858e-06]\n",
      "63번째 x: [-2.35391315e-06  3.13855087e-06]\n",
      "64번째 x: [-1.88313052e-06  2.51084069e-06]\n",
      "65번째 x: [-1.50650442e-06  2.00867256e-06]\n",
      "66번째 x: [-1.20520353e-06  1.60693804e-06]\n",
      "67번째 x: [-9.64162827e-07  1.28555044e-06]\n",
      "68번째 x: [-7.71330261e-07  1.02844035e-06]\n",
      "69번째 x: [-6.17064209e-07  8.22752279e-07]\n",
      "70번째 x: [-4.93651367e-07  6.58201823e-07]\n",
      "71번째 x: [-3.94921094e-07  5.26561458e-07]\n",
      "72번째 x: [-3.15936875e-07  4.21249167e-07]\n",
      "73번째 x: [-2.52749500e-07  3.36999333e-07]\n",
      "74번째 x: [-2.02199600e-07  2.69599467e-07]\n",
      "75번째 x: [-1.61759680e-07  2.15679573e-07]\n",
      "76번째 x: [-1.29407744e-07  1.72543659e-07]\n",
      "77번째 x: [-1.03526195e-07  1.38034927e-07]\n",
      "78번째 x: [-8.28209562e-08  1.10427942e-07]\n",
      "79번째 x: [-6.62567649e-08  8.83423532e-08]\n",
      "80번째 x: [-5.30054119e-08  7.06738826e-08]\n",
      "81번째 x: [-4.24043296e-08  5.65391061e-08]\n",
      "82번째 x: [-3.39234636e-08  4.52312849e-08]\n",
      "83번째 x: [-2.71387709e-08  3.61850279e-08]\n",
      "84번째 x: [-2.17110167e-08  2.89480223e-08]\n",
      "85번째 x: [-1.73688134e-08  2.31584178e-08]\n",
      "86번째 x: [-1.38950507e-08  1.85267343e-08]\n",
      "87번째 x: [-1.11160406e-08  1.48213874e-08]\n",
      "88번째 x: [-8.89283245e-09  1.18571099e-08]\n",
      "89번째 x: [-7.11426596e-09  9.48568795e-09]\n",
      "90번째 x: [-5.69141277e-09  7.58855036e-09]\n",
      "91번째 x: [-4.55313022e-09  6.07084029e-09]\n",
      "92번째 x: [-3.64250417e-09  4.85667223e-09]\n",
      "93번째 x: [-2.91400334e-09  3.88533778e-09]\n",
      "94번째 x: [-2.33120267e-09  3.10827023e-09]\n",
      "95번째 x: [-1.86496214e-09  2.48661618e-09]\n",
      "96번째 x: [-1.49196971e-09  1.98929295e-09]\n",
      "97번째 x: [-1.19357577e-09  1.59143436e-09]\n",
      "98번째 x: [-9.54860614e-10  1.27314749e-09]\n",
      "99번째 x: [-7.63888491e-10  1.01851799e-09]\n",
      "result: [-6.11110793e-10  8.14814391e-10]\n"
     ]
    }
   ],
   "source": [
    "init_x = np.array([-3.0, 4.0])\n",
    "print(\"result:\",gradient_descent(function_2, init_x=init_x, lr=0.1, step_num=100))\n",
    "# 결과값이 (0,0)에 매우 가까움을 알 수 있다.\n"
   ]
  },
  {
   "cell_type": "code",
   "execution_count": 51,
   "metadata": {},
   "outputs": [
    {
     "name": "stdout",
     "output_type": "stream",
     "text": [
      "0번째 x: [-3.  4.]\n",
      "1번째 x: [ 57. -76.]\n",
      "2번째 x: [-1083.00000003  1444.00000007]\n",
      "3번째 x: [ 20576.99999267 -27436.00002124]\n",
      "4번째 x: [-390963.00759858  521284.00215314]\n",
      "5번째 x: [ 7428296.63595611 -9904396.53983905]\n",
      "6번째 x: [-1.41137328e+08  1.88183103e+08]\n",
      "7번째 x: [ 2.68126267e+09 -3.57501690e+09]\n",
      "8번째 x: [-5.09763373e+10  6.79001831e+10]\n",
      "9번째 x: [ 9.45170863e+11 -1.29524862e+12]\n",
      "10번째 x: [-2.58983747e+13 -1.29524862e+12]\n",
      "11번째 x: [-2.58983747e+13 -1.29524862e+12]\n",
      "12번째 x: [-2.58983747e+13 -1.29524862e+12]\n",
      "13번째 x: [-2.58983747e+13 -1.29524862e+12]\n",
      "14번째 x: [-2.58983747e+13 -1.29524862e+12]\n",
      "15번째 x: [-2.58983747e+13 -1.29524862e+12]\n",
      "16번째 x: [-2.58983747e+13 -1.29524862e+12]\n",
      "17번째 x: [-2.58983747e+13 -1.29524862e+12]\n",
      "18번째 x: [-2.58983747e+13 -1.29524862e+12]\n",
      "19번째 x: [-2.58983747e+13 -1.29524862e+12]\n",
      "20번째 x: [-2.58983747e+13 -1.29524862e+12]\n",
      "21번째 x: [-2.58983747e+13 -1.29524862e+12]\n",
      "22번째 x: [-2.58983747e+13 -1.29524862e+12]\n",
      "23번째 x: [-2.58983747e+13 -1.29524862e+12]\n",
      "24번째 x: [-2.58983747e+13 -1.29524862e+12]\n",
      "25번째 x: [-2.58983747e+13 -1.29524862e+12]\n",
      "26번째 x: [-2.58983747e+13 -1.29524862e+12]\n",
      "27번째 x: [-2.58983747e+13 -1.29524862e+12]\n",
      "28번째 x: [-2.58983747e+13 -1.29524862e+12]\n",
      "29번째 x: [-2.58983747e+13 -1.29524862e+12]\n",
      "30번째 x: [-2.58983747e+13 -1.29524862e+12]\n",
      "31번째 x: [-2.58983747e+13 -1.29524862e+12]\n",
      "32번째 x: [-2.58983747e+13 -1.29524862e+12]\n",
      "33번째 x: [-2.58983747e+13 -1.29524862e+12]\n",
      "34번째 x: [-2.58983747e+13 -1.29524862e+12]\n",
      "35번째 x: [-2.58983747e+13 -1.29524862e+12]\n",
      "36번째 x: [-2.58983747e+13 -1.29524862e+12]\n",
      "37번째 x: [-2.58983747e+13 -1.29524862e+12]\n",
      "38번째 x: [-2.58983747e+13 -1.29524862e+12]\n",
      "39번째 x: [-2.58983747e+13 -1.29524862e+12]\n",
      "40번째 x: [-2.58983747e+13 -1.29524862e+12]\n",
      "41번째 x: [-2.58983747e+13 -1.29524862e+12]\n",
      "42번째 x: [-2.58983747e+13 -1.29524862e+12]\n",
      "43번째 x: [-2.58983747e+13 -1.29524862e+12]\n",
      "44번째 x: [-2.58983747e+13 -1.29524862e+12]\n",
      "45번째 x: [-2.58983747e+13 -1.29524862e+12]\n",
      "46번째 x: [-2.58983747e+13 -1.29524862e+12]\n",
      "47번째 x: [-2.58983747e+13 -1.29524862e+12]\n",
      "48번째 x: [-2.58983747e+13 -1.29524862e+12]\n",
      "49번째 x: [-2.58983747e+13 -1.29524862e+12]\n",
      "50번째 x: [-2.58983747e+13 -1.29524862e+12]\n",
      "51번째 x: [-2.58983747e+13 -1.29524862e+12]\n",
      "52번째 x: [-2.58983747e+13 -1.29524862e+12]\n",
      "53번째 x: [-2.58983747e+13 -1.29524862e+12]\n",
      "54번째 x: [-2.58983747e+13 -1.29524862e+12]\n",
      "55번째 x: [-2.58983747e+13 -1.29524862e+12]\n",
      "56번째 x: [-2.58983747e+13 -1.29524862e+12]\n",
      "57번째 x: [-2.58983747e+13 -1.29524862e+12]\n",
      "58번째 x: [-2.58983747e+13 -1.29524862e+12]\n",
      "59번째 x: [-2.58983747e+13 -1.29524862e+12]\n",
      "60번째 x: [-2.58983747e+13 -1.29524862e+12]\n",
      "61번째 x: [-2.58983747e+13 -1.29524862e+12]\n",
      "62번째 x: [-2.58983747e+13 -1.29524862e+12]\n",
      "63번째 x: [-2.58983747e+13 -1.29524862e+12]\n",
      "64번째 x: [-2.58983747e+13 -1.29524862e+12]\n",
      "65번째 x: [-2.58983747e+13 -1.29524862e+12]\n",
      "66번째 x: [-2.58983747e+13 -1.29524862e+12]\n",
      "67번째 x: [-2.58983747e+13 -1.29524862e+12]\n",
      "68번째 x: [-2.58983747e+13 -1.29524862e+12]\n",
      "69번째 x: [-2.58983747e+13 -1.29524862e+12]\n",
      "70번째 x: [-2.58983747e+13 -1.29524862e+12]\n",
      "71번째 x: [-2.58983747e+13 -1.29524862e+12]\n",
      "72번째 x: [-2.58983747e+13 -1.29524862e+12]\n",
      "73번째 x: [-2.58983747e+13 -1.29524862e+12]\n",
      "74번째 x: [-2.58983747e+13 -1.29524862e+12]\n",
      "75번째 x: [-2.58983747e+13 -1.29524862e+12]\n",
      "76번째 x: [-2.58983747e+13 -1.29524862e+12]\n",
      "77번째 x: [-2.58983747e+13 -1.29524862e+12]\n",
      "78번째 x: [-2.58983747e+13 -1.29524862e+12]\n",
      "79번째 x: [-2.58983747e+13 -1.29524862e+12]\n",
      "80번째 x: [-2.58983747e+13 -1.29524862e+12]\n",
      "81번째 x: [-2.58983747e+13 -1.29524862e+12]\n",
      "82번째 x: [-2.58983747e+13 -1.29524862e+12]\n",
      "83번째 x: [-2.58983747e+13 -1.29524862e+12]\n",
      "84번째 x: [-2.58983747e+13 -1.29524862e+12]\n",
      "85번째 x: [-2.58983747e+13 -1.29524862e+12]\n",
      "86번째 x: [-2.58983747e+13 -1.29524862e+12]\n",
      "87번째 x: [-2.58983747e+13 -1.29524862e+12]\n",
      "88번째 x: [-2.58983747e+13 -1.29524862e+12]\n",
      "89번째 x: [-2.58983747e+13 -1.29524862e+12]\n",
      "90번째 x: [-2.58983747e+13 -1.29524862e+12]\n",
      "91번째 x: [-2.58983747e+13 -1.29524862e+12]\n",
      "92번째 x: [-2.58983747e+13 -1.29524862e+12]\n",
      "93번째 x: [-2.58983747e+13 -1.29524862e+12]\n",
      "94번째 x: [-2.58983747e+13 -1.29524862e+12]\n",
      "95번째 x: [-2.58983747e+13 -1.29524862e+12]\n",
      "96번째 x: [-2.58983747e+13 -1.29524862e+12]\n",
      "97번째 x: [-2.58983747e+13 -1.29524862e+12]\n",
      "98번째 x: [-2.58983747e+13 -1.29524862e+12]\n",
      "99번째 x: [-2.58983747e+13 -1.29524862e+12]\n",
      "result: [-2.58983747e+13 -1.29524862e+12]\n"
     ]
    }
   ],
   "source": [
    "init_x = np.array([-3.0, 4.0])\n",
    "print(\"result:\",gradient_descent(function_2, init_x=init_x, lr=10, step_num=100))\n",
    "# learning rate가 높으면 발산할 수 있다\n"
   ]
  },
  {
   "cell_type": "code",
   "execution_count": 52,
   "metadata": {},
   "outputs": [
    {
     "name": "stdout",
     "output_type": "stream",
     "text": [
      "0번째 x: [-3.  4.]\n",
      "1번째 x: [-3.  4.]\n",
      "2번째 x: [-3.  4.]\n",
      "3번째 x: [-3.  4.]\n",
      "4번째 x: [-3.  4.]\n",
      "5번째 x: [-3.  4.]\n",
      "6번째 x: [-3.  4.]\n",
      "7번째 x: [-3.          3.99999999]\n",
      "8번째 x: [-3.          3.99999999]\n",
      "9번째 x: [-2.99999999  3.99999999]\n",
      "10번째 x: [-2.99999999  3.99999999]\n",
      "11번째 x: [-2.99999999  3.99999999]\n",
      "12번째 x: [-2.99999999  3.99999999]\n",
      "13번째 x: [-2.99999999  3.99999999]\n",
      "14번째 x: [-2.99999999  3.99999999]\n",
      "15번째 x: [-2.99999999  3.99999999]\n",
      "16번째 x: [-2.99999999  3.99999999]\n",
      "17번째 x: [-2.99999999  3.99999999]\n",
      "18번째 x: [-2.99999999  3.99999999]\n",
      "19번째 x: [-2.99999999  3.99999998]\n",
      "20번째 x: [-2.99999999  3.99999998]\n",
      "21번째 x: [-2.99999999  3.99999998]\n",
      "22번째 x: [-2.99999999  3.99999998]\n",
      "23번째 x: [-2.99999999  3.99999998]\n",
      "24번째 x: [-2.99999999  3.99999998]\n",
      "25번째 x: [-2.99999998  3.99999998]\n",
      "26번째 x: [-2.99999998  3.99999998]\n",
      "27번째 x: [-2.99999998  3.99999998]\n",
      "28번째 x: [-2.99999998  3.99999998]\n",
      "29번째 x: [-2.99999998  3.99999998]\n",
      "30번째 x: [-2.99999998  3.99999998]\n",
      "31번째 x: [-2.99999998  3.99999998]\n",
      "32번째 x: [-2.99999998  3.99999997]\n",
      "33번째 x: [-2.99999998  3.99999997]\n",
      "34번째 x: [-2.99999998  3.99999997]\n",
      "35번째 x: [-2.99999998  3.99999997]\n",
      "36번째 x: [-2.99999998  3.99999997]\n",
      "37번째 x: [-2.99999998  3.99999997]\n",
      "38번째 x: [-2.99999998  3.99999997]\n",
      "39번째 x: [-2.99999998  3.99999997]\n",
      "40번째 x: [-2.99999998  3.99999997]\n",
      "41번째 x: [-2.99999998  3.99999997]\n",
      "42번째 x: [-2.99999997  3.99999997]\n",
      "43번째 x: [-2.99999997  3.99999997]\n",
      "44번째 x: [-2.99999997  3.99999996]\n",
      "45번째 x: [-2.99999997  3.99999996]\n",
      "46번째 x: [-2.99999997  3.99999996]\n",
      "47번째 x: [-2.99999997  3.99999996]\n",
      "48번째 x: [-2.99999997  3.99999996]\n",
      "49번째 x: [-2.99999997  3.99999996]\n",
      "50번째 x: [-2.99999997  3.99999996]\n",
      "51번째 x: [-2.99999997  3.99999996]\n",
      "52번째 x: [-2.99999997  3.99999996]\n",
      "53번째 x: [-2.99999997  3.99999996]\n",
      "54번째 x: [-2.99999997  3.99999996]\n",
      "55번째 x: [-2.99999997  3.99999996]\n",
      "56번째 x: [-2.99999997  3.99999996]\n",
      "57번째 x: [-2.99999997  3.99999995]\n",
      "58번째 x: [-2.99999997  3.99999995]\n",
      "59번째 x: [-2.99999996  3.99999995]\n",
      "60번째 x: [-2.99999996  3.99999995]\n",
      "61번째 x: [-2.99999996  3.99999995]\n",
      "62번째 x: [-2.99999996  3.99999995]\n",
      "63번째 x: [-2.99999996  3.99999995]\n",
      "64번째 x: [-2.99999996  3.99999995]\n",
      "65번째 x: [-2.99999996  3.99999995]\n",
      "66번째 x: [-2.99999996  3.99999995]\n",
      "67번째 x: [-2.99999996  3.99999995]\n",
      "68번째 x: [-2.99999996  3.99999995]\n",
      "69번째 x: [-2.99999996  3.99999994]\n",
      "70번째 x: [-2.99999996  3.99999994]\n",
      "71번째 x: [-2.99999996  3.99999994]\n",
      "72번째 x: [-2.99999996  3.99999994]\n",
      "73번째 x: [-2.99999996  3.99999994]\n",
      "74번째 x: [-2.99999996  3.99999994]\n",
      "75번째 x: [-2.99999995  3.99999994]\n",
      "76번째 x: [-2.99999995  3.99999994]\n",
      "77번째 x: [-2.99999995  3.99999994]\n",
      "78번째 x: [-2.99999995  3.99999994]\n",
      "79번째 x: [-2.99999995  3.99999994]\n",
      "80번째 x: [-2.99999995  3.99999994]\n",
      "81번째 x: [-2.99999995  3.99999994]\n",
      "82번째 x: [-2.99999995  3.99999993]\n",
      "83번째 x: [-2.99999995  3.99999993]\n",
      "84번째 x: [-2.99999995  3.99999993]\n",
      "85번째 x: [-2.99999995  3.99999993]\n",
      "86번째 x: [-2.99999995  3.99999993]\n",
      "87번째 x: [-2.99999995  3.99999993]\n",
      "88번째 x: [-2.99999995  3.99999993]\n",
      "89번째 x: [-2.99999995  3.99999993]\n",
      "90번째 x: [-2.99999995  3.99999993]\n",
      "91번째 x: [-2.99999995  3.99999993]\n",
      "92번째 x: [-2.99999994  3.99999993]\n",
      "93번째 x: [-2.99999994  3.99999993]\n",
      "94번째 x: [-2.99999994  3.99999992]\n",
      "95번째 x: [-2.99999994  3.99999992]\n",
      "96번째 x: [-2.99999994  3.99999992]\n",
      "97번째 x: [-2.99999994  3.99999992]\n",
      "98번째 x: [-2.99999994  3.99999992]\n",
      "99번째 x: [-2.99999994  3.99999992]\n",
      "result: [-2.99999994  3.99999992]\n"
     ]
    }
   ],
   "source": [
    "init_x = np.array([-3.0, 4.0])\n",
    "print(\"result:\",gradient_descent(function_2, init_x=init_x, lr=1e-10, step_num=100))\n",
    "# learning rate가 너무 작으면 수렴하지 않을 수 있다 \n"
   ]
  },
  {
   "attachments": {},
   "cell_type": "markdown",
   "metadata": {},
   "source": [
    "4.4.2 신경망에서의 기울기"
   ]
  },
  {
   "cell_type": "code",
   "execution_count": 53,
   "metadata": {},
   "outputs": [],
   "source": [
    "from common.functions import softmax, cross_entropy_error\n",
    "from common.gradient import numerical_gradient"
   ]
  },
  {
   "cell_type": "code",
   "execution_count": 54,
   "metadata": {},
   "outputs": [],
   "source": [
    "class simpleNet:\n",
    "    def __init__(self):\n",
    "        # 책에서는 rand(2,3)을 쓴듯?\n",
    "        # rand(): 0~1 균일 분포\n",
    "        # randn(): 평균이 0이고 표준편차가 1인 정규분포 \n",
    "        self.W = np.random.randn(2,3)\n",
    "\n",
    "    def predict(self, x):\n",
    "        return np.dot(x, self.W)\n",
    "\n",
    "    def loss(self, x, t):\n",
    "        z = self.predict(x)\n",
    "        y = softmax(z)\n",
    "        loss = cross_entropy_error(y,t)\n",
    "\n",
    "        return loss"
   ]
  },
  {
   "cell_type": "code",
   "execution_count": 56,
   "metadata": {},
   "outputs": [
    {
     "name": "stdout",
     "output_type": "stream",
     "text": [
      "[[ 1.62584003  0.11008835  1.03844476]\n",
      " [ 0.73831286 -0.39990646 -0.00326571]]\n"
     ]
    }
   ],
   "source": [
    "net = simpleNet()\n",
    "print(net.W)"
   ]
  },
  {
   "cell_type": "code",
   "execution_count": 57,
   "metadata": {},
   "outputs": [
    {
     "name": "stdout",
     "output_type": "stream",
     "text": [
      "p: [ 1.63998559 -0.2938628   0.62012772]\n"
     ]
    }
   ],
   "source": [
    "x = np.array([.6, .9])\n",
    "p = net.predict(x)\n",
    "print(\"p:\",p)"
   ]
  },
  {
   "cell_type": "code",
   "execution_count": 60,
   "metadata": {},
   "outputs": [
    {
     "name": "stdout",
     "output_type": "stream",
     "text": [
      "가장 큰 값의 인덱스: 0\n",
      "loss: 0.4089501309932537\n"
     ]
    }
   ],
   "source": [
    "print(\"가장 큰 값의 인덱스:\",np.argmax(p))\n",
    "t = np.array([1,0,0])\n",
    "print(\"loss:\",net.loss(x,t))"
   ]
  },
  {
   "cell_type": "code",
   "execution_count": 64,
   "metadata": {},
   "outputs": [
    {
     "data": {
      "text/plain": [
       "array([[-0.20139161,  0.05763505,  0.14375657],\n",
       "       [-0.30208742,  0.08645257,  0.21563485]])"
      ]
     },
     "execution_count": 64,
     "metadata": {},
     "output_type": "execute_result"
    }
   ],
   "source": [
    "# 람다 기법을 사용해서 더 짧게 구현 가능\n",
    "# f = lambda w: net.loss(x,t)\n",
    "def f(W):\n",
    "    # 일단 임시로 x=[0.6,0.9], t=[1,0,0] 사용\n",
    "    return net.loss(x,t)\n",
    "\n",
    "# 여기서 numerical_gradient() 함수는 수정된 버전임\n",
    "dW = numerical_gradient(f, net.W)\n",
    "dW"
   ]
  },
  {
   "cell_type": "code",
   "execution_count": null,
   "metadata": {},
   "outputs": [],
   "source": [
    "\n"
   ]
  },
  {
   "cell_type": "code",
   "execution_count": null,
   "metadata": {},
   "outputs": [],
   "source": []
  }
 ],
 "metadata": {
  "kernelspec": {
   "display_name": "base",
   "language": "python",
   "name": "python3"
  },
  "language_info": {
   "codemirror_mode": {
    "name": "ipython",
    "version": 3
   },
   "file_extension": ".py",
   "mimetype": "text/x-python",
   "name": "python",
   "nbconvert_exporter": "python",
   "pygments_lexer": "ipython3",
   "version": "3.8.5"
  },
  "orig_nbformat": 4
 },
 "nbformat": 4,
 "nbformat_minor": 2
}
